{
 "cells": [
  {
   "cell_type": "markdown",
   "id": "a739c7ba",
   "metadata": {},
   "source": [
    "# Training Complex Models"
   ]
  },
  {
   "cell_type": "code",
   "execution_count": null,
   "id": "7bd78fc2",
   "metadata": {},
   "outputs": [
    {
     "name": "stdout",
     "output_type": "stream",
     "text": [
      "Linear Regression - RMSE: 0.727, R²: 0.594\n",
      "Random Forest - RMSE: 0.513, R²: 0.798\n",
      "Gradient Boosting - RMSE: 0.539, R²: 0.777\n"
     ]
    }
   ],
   "source": [
    "from sklearn.datasets import fetch_california_housing\n",
    "from sklearn.model_selection import train_test_split\n",
    "from sklearn.pipeline import Pipeline\n",
    "from sklearn.preprocessing import StandardScaler\n",
    "from sklearn.linear_model import LinearRegression\n",
    "from sklearn.ensemble import RandomForestRegressor, GradientBoostingRegressor\n",
    "from sklearn.metrics import root_mean_squared_error, r2_score\n",
    "\n",
    "\n",
    "data = fetch_california_housing(as_frame=True)\n",
    "\n",
    "\n",
    "X = data.data\n",
    "y = data.target\n",
    "\n",
    "X_train, X_test, y_train, y_test = train_test_split(\n",
    "    X, y, test_size=0.2, random_state=0\n",
    ")\n",
    "\n",
    "models = {\n",
    "    \"Linear Regression\": Pipeline([\n",
    "        (\"scaler\", StandardScaler()),\n",
    "        (\"lr\", LinearRegression())\n",
    "        ]),\n",
    "    \"Random Forest\": RandomForestRegressor(random_state=0),\n",
    "    \"Gradient Boosting\": GradientBoostingRegressor(random_state=0),\n",
    "}\n",
    "\n",
    "for model in models.values():\n",
    "    model.fit(X_train, y_train)\n",
    "    \n",
    "def evaluate_model(model, X_test, y_test):\n",
    "    y_pred = model.predict(X_test)\n",
    "    rmse = root_mean_squared_error(y_test, y_pred)\n",
    "    r2 = r2_score(y_test, y_pred)\n",
    "    return rmse, r2\n",
    "\n",
    "for name, model in models.items():\n",
    "    rmse, r2 = evaluate_model(model, X_test, y_test)\n",
    "    print(f\"{name} - RMSE: {rmse:.3f}, R²: {r2:.3f}\")\n"
   ]
  },
  {
   "cell_type": "markdown",
   "id": "955dfd41",
   "metadata": {},
   "source": [
    "# Selecting a random instance to explain"
   ]
  },
  {
   "cell_type": "code",
   "execution_count": 5,
   "metadata": {},
   "outputs": [
    {
     "name": "stdout",
     "output_type": "stream",
     "text": [
      "\n",
      "50th percentile of y_test: 1.778\n",
      "Random sample instance:\n",
      "  Index: 10241\n",
      "  True value: 2.655\n",
      "  Predicted value: 2.119\n"
     ]
    }
   ],
   "source": [
    "def get_random_instance(y, X, model, \n",
    "                        percentile=0.95, above=True, random_state=0):\n",
    "    p = y.quantile(percentile)\n",
    "    subset = y[y >= p] if above else y[y <= p]\n",
    "    random_instance = subset.sample(n=1, random_state=random_state)\n",
    "    \n",
    "    idx = random_instance.index[0]\n",
    "    true_val = random_instance.values[0]\n",
    "    pred_val = model.predict(X.loc[[idx]])[0]\n",
    "    \n",
    "    return {\n",
    "        \"idx\": idx,\n",
    "        \"true_val\": true_val,\n",
    "        \"pred_val\": pred_val,\n",
    "        \"percentile_value\": p\n",
    "    }\n",
    "\n",
    "\n",
    "def show_random_instance(instance_dict, percentile=95, label=\"instance\"):\n",
    "    print(f\"\\n{percentile}th percentile of y_test: {instance_dict['percentile_value']:.3f}\")\n",
    "    print(f\"Random {label}:\")\n",
    "    print(f\"  Index: {instance_dict['idx']}\")\n",
    "    print(f\"  True value: {instance_dict['true_val']:.3f}\")\n",
    "    print(f\"  Predicted value: {instance_dict['pred_val']:.3f}\")\n",
    "\n",
    "\n",
    "\n",
    "\n",
    "chosen_model = models[\"Random Forest\"]\n",
    "sample = get_random_instance(y_test, X_test, chosen_model, percentile=0.5, above=True)\n",
    "sample[\"label\"] = \"sample instance\"\n",
    "show_random_instance(sample, percentile=50, label=sample[\"label\"])"
   ]
  },
  {
   "cell_type": "markdown",
   "id": "89894485",
   "metadata": {},
   "source": [
    "# LIME"
   ]
  },
  {
   "cell_type": "code",
   "execution_count": 7,
   "metadata": {},
   "outputs": [],
   "source": [
    "from lime.lime_tabular import LimeTabularExplainer\n",
    "import numpy as np\n",
    "import pandas as pd\n",
    "import matplotlib.pyplot as plt\n",
    "\n",
    "\n",
    "explainer = LimeTabularExplainer(\n",
    "    training_data=X_train.values,\n",
    "    feature_names=X.columns.tolist(),\n",
    "    mode=\"regression\",\n",
    "    discretize_continuous=False, # TODO: try True\n",
    "    sample_around_instance=True,\n",
    "    kernel_width=0.75*np.sqrt(X_train.shape[1]),\n",
    "    random_state=0\n",
    ")\n",
    "\n",
    "\n",
    "def predict_fn(X_array):\n",
    "    X_df = pd.DataFrame(X_array, columns=X_train.columns)\n",
    "    return chosen_model.predict(X_df)\n",
    "\n",
    "exp= explainer.explain_instance(\n",
    "    data_row=X.loc[[sample[\"idx\"]]].to_numpy()[0],\n",
    "    predict_fn=predict_fn,\n",
    "    num_features=20,\n",
    "    num_samples=3000,\n",
    "    distance_metric='euclidean'\n",
    ")"
   ]
  },
  {
   "cell_type": "markdown",
   "id": "40651e40",
   "metadata": {},
   "source": [
    "# Questions"
   ]
  },
  {
   "cell_type": "markdown",
   "id": "e4390715",
   "metadata": {},
   "source": [
    "The `as_map` method returns `label`: [(`feature`, `weight`)]. With regression, it always returns two `label`: 0, 1. The weights are always mirrors of each other.\n",
    "\n",
    "- What to the labels 0 and 1 represet?\n",
    "- Why are they inverse?\n",
    "\n",
    "The output of `as_list` always seem to correspond to the 1 label in `as_map` output."
   ]
  },
  {
   "cell_type": "code",
   "execution_count": 10,
   "id": "27226f9f",
   "metadata": {},
   "outputs": [
    {
     "data": {
      "text/plain": [
       "{0: [(np.int64(0), np.float64(-0.5298087337759396)),\n",
       "  (np.int64(5), np.float64(0.45932409178040723)),\n",
       "  (np.int64(7), np.float64(0.34674288851385254)),\n",
       "  (np.int64(6), np.float64(0.20342177481127297)),\n",
       "  (np.int64(1), np.float64(-0.16818346774366183)),\n",
       "  (np.int64(3), np.float64(-0.06095483829008354)),\n",
       "  (np.int64(4), np.float64(-0.03225760743187124)),\n",
       "  (np.int64(2), np.float64(-0.013053547744401778))],\n",
       " 1: [(np.int64(0), np.float64(0.5298087337759396)),\n",
       "  (np.int64(5), np.float64(-0.45932409178040723)),\n",
       "  (np.int64(7), np.float64(-0.34674288851385254)),\n",
       "  (np.int64(6), np.float64(-0.20342177481127297)),\n",
       "  (np.int64(1), np.float64(0.16818346774366183)),\n",
       "  (np.int64(3), np.float64(0.06095483829008354)),\n",
       "  (np.int64(4), np.float64(0.03225760743187124)),\n",
       "  (np.int64(2), np.float64(0.013053547744401778))]}"
      ]
     },
     "execution_count": 10,
     "metadata": {},
     "output_type": "execute_result"
    }
   ],
   "source": [
    "exp.as_map()"
   ]
  },
  {
   "cell_type": "code",
   "execution_count": 8,
   "id": "5a2874ee",
   "metadata": {},
   "outputs": [
    {
     "data": {
      "text/plain": [
       "[('MedInc', 0.5298087337759396),\n",
       " ('AveOccup', -0.45932409178040723),\n",
       " ('Longitude', -0.34674288851385254),\n",
       " ('Latitude', -0.20342177481127297),\n",
       " ('HouseAge', 0.16818346774366183),\n",
       " ('AveBedrms', 0.06095483829008354),\n",
       " ('Population', 0.03225760743187124),\n",
       " ('AveRooms', 0.013053547744401778)]"
      ]
     },
     "execution_count": 8,
     "metadata": {},
     "output_type": "execute_result"
    }
   ],
   "source": [
    "exp.as_list()"
   ]
  },
  {
   "cell_type": "markdown",
   "id": "2ea7ce6c",
   "metadata": {},
   "source": [
    "https://lime-ml.readthedocs.io/en/latest/lime.html?highlight=map#lime.explanation.Explanation.as_map"
   ]
  }
 ],
 "metadata": {
  "kernelspec": {
   "display_name": "dsci-89",
   "language": "python",
   "name": "python3"
  },
  "language_info": {
   "codemirror_mode": {
    "name": "ipython",
    "version": 3
   },
   "file_extension": ".py",
   "mimetype": "text/x-python",
   "name": "python",
   "nbconvert_exporter": "python",
   "pygments_lexer": "ipython3",
   "version": "3.12.3"
  }
 },
 "nbformat": 4,
 "nbformat_minor": 5
}
